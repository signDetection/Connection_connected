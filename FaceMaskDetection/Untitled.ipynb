{
 "cells": [
  {
   "cell_type": "markdown",
   "id": "capable-jaguar",
   "metadata": {},
   "source": [
    "# Import Libraries"
   ]
  },
  {
   "cell_type": "code",
   "execution_count": 2,
   "id": "optional-boston",
   "metadata": {},
   "outputs": [],
   "source": [
    "from keras.optimizers import rmsprop_v2\n",
    "from keras.preprocessing.image import ImageDataGenerator\n",
    "import cv2\n",
    "from keras.models import Sequential\n",
    "from keras.layers import Conv2D, Input, ZeroPadding2D, BatchNormalization, Activation, MaxPooling2D, Flatten, Dense,Dropout\n",
    "from keras.models import Model, load_model\n",
    "from keras.callbacks import TensorBoard, ModelCheckpoint\n",
    "from sklearn.model_selection import train_test_split\n",
    "from sklearn.metrics import f1_score\n",
    "from sklearn.utils import shuffle\n",
    "import imutils\n",
    "import numpy as np"
   ]
  },
  {
   "cell_type": "markdown",
   "id": "optional-tuition",
   "metadata": {},
   "source": [
    "# Build Neural Network"
   ]
  },
  {
   "cell_type": "code",
   "execution_count": 3,
   "id": "combined-senegal",
   "metadata": {},
   "outputs": [],
   "source": [
    "model = Sequential([\n",
    "    Conv2D(100, (3,3), activation='relu', input_shape=(150, 150, 3)),\n",
    "    MaxPooling2D(2,2),\n",
    "    \n",
    "    Conv2D(100, (3,3), activation='relu'),\n",
    "    MaxPooling2D(2,2),\n",
    "    \n",
    "    Flatten(),\n",
    "    Dropout(0.5),\n",
    "    Dense(50, activation='relu'),\n",
    "    Dense(2, activation='softmax')\n",
    "])\n",
    "model.compile(optimizer='adam', loss='binary_crossentropy', metrics=['acc'])"
   ]
  },
  {
   "cell_type": "markdown",
   "id": "protected-austin",
   "metadata": {},
   "source": [
    "# Image Generation"
   ]
  },
  {
   "cell_type": "code",
   "execution_count": 4,
   "id": "objective-senate",
   "metadata": {},
   "outputs": [
    {
     "name": "stdout",
     "output_type": "stream",
     "text": [
      "Found 1315 images belonging to 2 classes.\n",
      "Found 194 images belonging to 2 classes.\n"
     ]
    }
   ],
   "source": [
    "TRAINING_DIR = \"./Face_Mask_Dataset/train\"\n",
    "train_datagen = ImageDataGenerator(rescale=1.0/255,\n",
    "                                   rotation_range=40,\n",
    "                                   width_shift_range=0.2,\n",
    "                                   height_shift_range=0.2,\n",
    "                                   shear_range=0.2,\n",
    "                                   zoom_range=0.2,\n",
    "                                   horizontal_flip=True,\n",
    "                                   fill_mode='nearest')\n",
    "\n",
    "train_generator = train_datagen.flow_from_directory(TRAINING_DIR, \n",
    "                                                    batch_size=10, \n",
    "                                                    target_size=(150, 150))\n",
    "VALIDATION_DIR = \"./Face_Mask_Dataset/test\"\n",
    "validation_datagen = ImageDataGenerator(rescale=1.0/255)\n",
    "\n",
    "validation_generator = validation_datagen.flow_from_directory(VALIDATION_DIR, \n",
    "                                                         batch_size=10, \n",
    "                                                         target_size=(150, 150))"
   ]
  },
  {
   "cell_type": "code",
   "execution_count": 5,
   "id": "under-education",
   "metadata": {},
   "outputs": [],
   "source": [
    "checkpoint = ModelCheckpoint('model2-{epoch:03d}.model',monitor='val_loss',verbose=0,save_best_only=True,mode='auto')"
   ]
  },
  {
   "cell_type": "code",
   "execution_count": 6,
   "id": "alleged-apollo",
   "metadata": {},
   "outputs": [
    {
     "name": "stderr",
     "output_type": "stream",
     "text": [
      "/Library/Frameworks/Python.framework/Versions/3.9/lib/python3.9/site-packages/keras/engine/training.py:1915: UserWarning: `Model.fit_generator` is deprecated and will be removed in a future version. Please use `Model.fit`, which supports generators.\n",
      "  warnings.warn('`Model.fit_generator` is deprecated and '\n"
     ]
    },
    {
     "name": "stdout",
     "output_type": "stream",
     "text": [
      "Epoch 1/10\n",
      "WARNING:tensorflow:AutoGraph could not transform <bound method Dense.call of <keras.layers.core.Dense object at 0x7f95490d2dc0>> and will run it as-is.\n",
      "Please report this to the TensorFlow team. When filing the bug, set the verbosity to 10 (on Linux, `export AUTOGRAPH_VERBOSITY=10`) and attach the full output.\n",
      "Cause: invalid syntax (tmpyk_09tiu.py, line 48)\n",
      "To silence this warning, decorate the function with @tf.autograph.experimental.do_not_convert\n",
      "WARNING: AutoGraph could not transform <bound method Dense.call of <keras.layers.core.Dense object at 0x7f95490d2dc0>> and will run it as-is.\n",
      "Please report this to the TensorFlow team. When filing the bug, set the verbosity to 10 (on Linux, `export AUTOGRAPH_VERBOSITY=10`) and attach the full output.\n",
      "Cause: invalid syntax (tmpyk_09tiu.py, line 48)\n",
      "To silence this warning, decorate the function with @tf.autograph.experimental.do_not_convert\n",
      "132/132 [==============================] - 170s 1s/step - loss: 0.7306 - acc: 0.6061 - val_loss: 0.2718 - val_acc: 0.9330\n",
      "INFO:tensorflow:Assets written to: model2-001.model/assets\n",
      "Epoch 2/10\n",
      "132/132 [==============================] - 111s 832ms/step - loss: 0.3825 - acc: 0.8623 - val_loss: 0.2642 - val_acc: 0.8660\n",
      "INFO:tensorflow:Assets written to: model2-002.model/assets\n",
      "Epoch 3/10\n",
      "132/132 [==============================] - 106s 803ms/step - loss: 0.2959 - acc: 0.8717 - val_loss: 0.1409 - val_acc: 0.9330\n",
      "INFO:tensorflow:Assets written to: model2-003.model/assets\n",
      "Epoch 4/10\n",
      "132/132 [==============================] - 105s 797ms/step - loss: 0.2657 - acc: 0.8866 - val_loss: 0.1606 - val_acc: 0.9330\n",
      "Epoch 5/10\n",
      "132/132 [==============================] - 104s 788ms/step - loss: 0.2362 - acc: 0.9205 - val_loss: 0.1287 - val_acc: 0.9381\n",
      "INFO:tensorflow:Assets written to: model2-005.model/assets\n",
      "Epoch 6/10\n",
      "132/132 [==============================] - 128s 973ms/step - loss: 0.1659 - acc: 0.9366 - val_loss: 0.0934 - val_acc: 0.9536\n",
      "INFO:tensorflow:Assets written to: model2-006.model/assets\n",
      "Epoch 7/10\n",
      "132/132 [==============================] - 110s 826ms/step - loss: 0.2061 - acc: 0.9222 - val_loss: 0.2814 - val_acc: 0.8866\n",
      "Epoch 8/10\n",
      "132/132 [==============================] - 107s 811ms/step - loss: 0.2079 - acc: 0.9125 - val_loss: 0.0332 - val_acc: 0.9897\n",
      "INFO:tensorflow:Assets written to: model2-008.model/assets\n",
      "Epoch 9/10\n",
      "132/132 [==============================] - 107s 807ms/step - loss: 0.1734 - acc: 0.9400 - val_loss: 0.0334 - val_acc: 0.9948\n",
      "Epoch 10/10\n",
      "132/132 [==============================] - 134s 1s/step - loss: 0.1668 - acc: 0.9468 - val_loss: 0.1991 - val_acc: 0.8866\n"
     ]
    }
   ],
   "source": [
    "history = model.fit_generator(train_generator,\n",
    "                              epochs=10,\n",
    "                              validation_data=validation_generator,\n",
    "                              callbacks=[checkpoint])"
   ]
  },
  {
   "cell_type": "code",
   "execution_count": null,
   "id": "ordered-syndication",
   "metadata": {},
   "outputs": [],
   "source": []
  }
 ],
 "metadata": {
  "kernelspec": {
   "display_name": "Python 3",
   "language": "python",
   "name": "python3"
  },
  "language_info": {
   "codemirror_mode": {
    "name": "ipython",
    "version": 3
   },
   "file_extension": ".py",
   "mimetype": "text/x-python",
   "name": "python",
   "nbconvert_exporter": "python",
   "pygments_lexer": "ipython3",
   "version": "3.9.1"
  }
 },
 "nbformat": 4,
 "nbformat_minor": 5
}
